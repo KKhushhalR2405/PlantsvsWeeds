{
  "nbformat": 4,
  "nbformat_minor": 0,
  "metadata": {
    "colab": {
      "name": "PlantVsWeed.ipynb",
      "provenance": [],
      "collapsed_sections": [],
      "authorship_tag": "ABX9TyNNOQaDt6hKZYaB9+/jm6/i",
      "include_colab_link": true
    },
    "kernelspec": {
      "name": "python3",
      "display_name": "Python 3"
    },
    "accelerator": "GPU"
  },
  "cells": [
    {
      "cell_type": "markdown",
      "metadata": {
        "id": "view-in-github",
        "colab_type": "text"
      },
      "source": [
        "<a href=\"https://colab.research.google.com/github/KKhushhalR2405/PlantsvsWeeds/blob/master/PlantVsWeed.ipynb\" target=\"_parent\"><img src=\"https://colab.research.google.com/assets/colab-badge.svg\" alt=\"Open In Colab\"/></a>"
      ]
    },
    {
      "cell_type": "code",
      "metadata": {
        "id": "S829W12h-94y",
        "colab_type": "code",
        "colab": {}
      },
      "source": [
        "import os\n",
        "os.environ['KAGGLE_CONFIG_DIR'] = \"/content/gdrive/My Drive/Kaggle\""
      ],
      "execution_count": 0,
      "outputs": []
    },
    {
      "cell_type": "code",
      "metadata": {
        "id": "qgqGIZzS_dP-",
        "colab_type": "code",
        "outputId": "08e103a5-8161-4cd9-8d60-db0d6fe64b46",
        "colab": {
          "base_uri": "https://localhost:8080/",
          "height": 34
        }
      },
      "source": [
        "%cd /content/gdrive/My Drive/Kaggle"
      ],
      "execution_count": 0,
      "outputs": [
        {
          "output_type": "stream",
          "text": [
            "/content/gdrive/My Drive/Kaggle\n"
          ],
          "name": "stdout"
        }
      ]
    },
    {
      "cell_type": "code",
      "metadata": {
        "id": "MFgNMtzh_iTP",
        "colab_type": "code",
        "outputId": "e08a70fd-e7a1-4654-c6c3-03b30794635d",
        "colab": {
          "base_uri": "https://localhost:8080/",
          "height": 34
        }
      },
      "source": [
        "pwd"
      ],
      "execution_count": 0,
      "outputs": [
        {
          "output_type": "execute_result",
          "data": {
            "text/plain": [
              "'/content/gdrive/My Drive/Kaggle'"
            ]
          },
          "metadata": {
            "tags": []
          },
          "execution_count": 15
        }
      ]
    },
    {
      "cell_type": "code",
      "metadata": {
        "id": "4eiHeBwHFlKR",
        "colab_type": "code",
        "outputId": "6a745228-a753-4253-ed39-84d4a252164a",
        "colab": {
          "base_uri": "https://localhost:8080/",
          "height": 34
        }
      },
      "source": [
        "import numpy as np\n",
        "from glob import glob\n",
        "\n",
        "plant_file = np.array(glob(\"output/*/*/*\"))\n",
        "\n",
        "print(\"Total images : {}\".format(len(plant_file)))"
      ],
      "execution_count": 0,
      "outputs": [
        {
          "output_type": "stream",
          "text": [
            "Total images : 5539\n"
          ],
          "name": "stdout"
        }
      ]
    },
    {
      "cell_type": "code",
      "metadata": {
        "id": "0d5jn0mdPzyB",
        "colab_type": "code",
        "colab": {}
      },
      "source": [
        "###----------------Specifying data loaders------------------------###"
      ],
      "execution_count": 0,
      "outputs": []
    },
    {
      "cell_type": "code",
      "metadata": {
        "id": "JyUf87r0V0qW",
        "colab_type": "code",
        "colab": {}
      },
      "source": [
        "import os\n",
        "from torchvision import datasets\n",
        "\n",
        "from torchvision import datasets\n",
        "import torchvision.transforms as transforms\n",
        "import torch\n",
        "import numpy as np\n",
        "from PIL import ImageFile\n",
        "ImageFile.LOAD_TRUNCATED_IMAGES = True\n"
      ],
      "execution_count": 0,
      "outputs": []
    },
    {
      "cell_type": "code",
      "metadata": {
        "id": "Fgf8JFoZV2g9",
        "colab_type": "code",
        "colab": {}
      },
      "source": [
        "batch_size = 20\n",
        "num_workers = 0\n",
        "\n",
        "data_dir = '/content/gdrive/My Drive/Kaggle/output'\n",
        "train_dir = os.path.join(data_dir, 'train/')\n",
        "valid_dir = os.path.join(data_dir, 'val/')\n",
        "test_dir = os.path.join(data_dir, 'test/')"
      ],
      "execution_count": 0,
      "outputs": []
    },
    {
      "cell_type": "code",
      "metadata": {
        "id": "e-ICDl_3WODo",
        "colab_type": "code",
        "colab": {}
      },
      "source": [
        "standard_normalization = transforms.Normalize(mean=[0.485, 0.456, 0.406],std=[0.229, 0.224, 0.225])"
      ],
      "execution_count": 0,
      "outputs": []
    },
    {
      "cell_type": "code",
      "metadata": {
        "id": "qf9PkkPZW0Pl",
        "colab_type": "code",
        "colab": {}
      },
      "source": [
        "data_transforms = {'train': transforms.Compose([transforms.RandomResizedCrop(224),\n",
        "                                     transforms.RandomHorizontalFlip(),\n",
        "                                     transforms.ToTensor(),\n",
        "                                     standard_normalization]),\n",
        "                   'val': transforms.Compose([transforms.Resize(256),\n",
        "                                     transforms.CenterCrop(224),\n",
        "                                     transforms.ToTensor(),\n",
        "                                     standard_normalization]),\n",
        "                   'test': transforms.Compose([transforms.Resize(size=(224,224)),\n",
        "                                     transforms.ToTensor(), \n",
        "                                     standard_normalization])\n",
        "                  }"
      ],
      "execution_count": 0,
      "outputs": []
    },
    {
      "cell_type": "code",
      "metadata": {
        "id": "SqQDymKbXM4s",
        "colab_type": "code",
        "colab": {}
      },
      "source": [
        "train_data = datasets.ImageFolder(train_dir, transform=data_transforms['train'])\n",
        "valid_data = datasets.ImageFolder(valid_dir, transform=data_transforms['val'])\n",
        "test_data = datasets.ImageFolder(test_dir, transform=data_transforms['test'])"
      ],
      "execution_count": 0,
      "outputs": []
    },
    {
      "cell_type": "code",
      "metadata": {
        "id": "5xO0IsEEXQdt",
        "colab_type": "code",
        "colab": {}
      },
      "source": [
        "train_loader = torch.utils.data.DataLoader(train_data,\n",
        "                                           batch_size=batch_size, \n",
        "                                           num_workers=num_workers,\n",
        "                                           shuffle=True)\n",
        "valid_loader = torch.utils.data.DataLoader(valid_data,\n",
        "                                           batch_size=batch_size, \n",
        "                                           num_workers=num_workers,\n",
        "                                           shuffle=False)\n",
        "test_loader = torch.utils.data.DataLoader(test_data,\n",
        "                                           batch_size=batch_size, \n",
        "                                           num_workers=num_workers,\n",
        "                                           shuffle=False)\n",
        "loaders_scratch = {\n",
        "    'train': train_loader,\n",
        "    'valid': valid_loader,\n",
        "    'test': test_loader\n",
        "}"
      ],
      "execution_count": 0,
      "outputs": []
    },
    {
      "cell_type": "code",
      "metadata": {
        "id": "oZwRl3lWYsBW",
        "colab_type": "code",
        "colab": {}
      },
      "source": [
        ""
      ],
      "execution_count": 0,
      "outputs": []
    },
    {
      "cell_type": "code",
      "metadata": {
        "id": "-P1bDrk4YYUv",
        "colab_type": "code",
        "colab": {}
      },
      "source": [
        "import torch.nn as nn\n",
        "import torch.nn.functional as F\n",
        "from PIL import ImageFile\n",
        "import numpy as np\n",
        "ImageFile.LOAD_TRUNCATED_IMAGES = True\n",
        "\n",
        "num_classes = 12\n",
        "\n",
        "\n",
        "class Net(nn.Module):\n",
        "    \n",
        "    def __init__(self):\n",
        "        super(Net, self).__init__()\n",
        "        \n",
        "        self.conv1 = nn.Conv2d(3, 32, 3, stride=2, padding=1)\n",
        "        self.conv2 = nn.Conv2d(32, 64, 3, stride=2, padding=1)\n",
        "        self.conv3 = nn.Conv2d(64, 128, 3, padding=1)\n",
        "\n",
        "        # pool\n",
        "        self.pool = nn.MaxPool2d(2, 2)\n",
        "        \n",
        "        # fully-connected\n",
        "        self.fc1 = nn.Linear(7*7*128, 500)\n",
        "        self.fc2 = nn.Linear(500, num_classes) \n",
        "        \n",
        "        # drop-out\n",
        "        self.dropout = nn.Dropout(0.3)\n",
        "    \n",
        "    def forward(self, x):\n",
        "        ## Define forward behavior\n",
        "        x = F.relu(self.conv1(x))\n",
        "        x = self.pool(x)\n",
        "        x = F.relu(self.conv2(x))\n",
        "        x = self.pool(x)\n",
        "        x = F.relu(self.conv3(x))\n",
        "        x = self.pool(x)\n",
        "        \n",
        "        # flatten\n",
        "        x = x.view(-1, 7*7*128)\n",
        "        \n",
        "        x = self.dropout(x)\n",
        "        x = F.relu(self.fc1(x))\n",
        "        \n",
        "        x = self.dropout(x)\n",
        "        x = self.fc2(x)\n",
        "        return x\n",
        "\n",
        "\n",
        "model_scratch = Net()\n",
        "\n"
      ],
      "execution_count": 0,
      "outputs": []
    },
    {
      "cell_type": "code",
      "metadata": {
        "id": "gi2rqCZBazXU",
        "colab_type": "code",
        "outputId": "464b04f1-7702-430f-fe31-981e2d67e977",
        "colab": {
          "base_uri": "https://localhost:8080/",
          "height": 34
        }
      },
      "source": [
        "use_cuda = torch.cuda.is_available()\n",
        "\n",
        "if use_cuda:\n",
        "  model_scratch.cuda()\n",
        "  print(\"Trainig on GPU\")\n",
        "else:\n",
        "  print(\"Training on CPU\")"
      ],
      "execution_count": 0,
      "outputs": [
        {
          "output_type": "stream",
          "text": [
            "Trainig on GPU\n"
          ],
          "name": "stdout"
        }
      ]
    },
    {
      "cell_type": "code",
      "metadata": {
        "id": "xS85gKfHbHpM",
        "colab_type": "code",
        "outputId": "8f62bce9-a137-4e76-8e6b-d224eff7c205",
        "colab": {
          "base_uri": "https://localhost:8080/",
          "height": 170
        }
      },
      "source": [
        "model_scratch"
      ],
      "execution_count": 0,
      "outputs": [
        {
          "output_type": "execute_result",
          "data": {
            "text/plain": [
              "Net(\n",
              "  (conv1): Conv2d(3, 32, kernel_size=(3, 3), stride=(2, 2), padding=(1, 1))\n",
              "  (conv2): Conv2d(32, 64, kernel_size=(3, 3), stride=(2, 2), padding=(1, 1))\n",
              "  (conv3): Conv2d(64, 128, kernel_size=(3, 3), stride=(1, 1), padding=(1, 1))\n",
              "  (pool): MaxPool2d(kernel_size=2, stride=2, padding=0, dilation=1, ceil_mode=False)\n",
              "  (fc1): Linear(in_features=6272, out_features=500, bias=True)\n",
              "  (fc2): Linear(in_features=500, out_features=12, bias=True)\n",
              "  (dropout): Dropout(p=0.3, inplace=False)\n",
              ")"
            ]
          },
          "metadata": {
            "tags": []
          },
          "execution_count": 15
        }
      ]
    },
    {
      "cell_type": "code",
      "metadata": {
        "id": "Td-JdavYbPUo",
        "colab_type": "code",
        "colab": {}
      },
      "source": [
        "import torch.optim as optim\n",
        "\n",
        "\n",
        "criterion_scratch = nn.CrossEntropyLoss()\n",
        "\n",
        "\n",
        "optimizer_scratch = optim.SGD(model_scratch.parameters(), lr = 0.05)"
      ],
      "execution_count": 0,
      "outputs": []
    },
    {
      "cell_type": "code",
      "metadata": {
        "id": "Qkf3fp5VbhWy",
        "colab_type": "code",
        "colab": {}
      },
      "source": [
        "def train(n_epochs, loaders, model, optimizer, criterion, use_cuda, save_path, last_validation_loss=None):\n",
        "    \"\"\"returns trained model\"\"\"\n",
        "    # initialize tracker for minimum validation loss\n",
        "    if last_validation_loss is not None:\n",
        "        valid_loss_min = last_validation_loss\n",
        "    else:\n",
        "        valid_loss_min = np.Inf\n",
        "    \n",
        "    for epoch in range(1, n_epochs+1):\n",
        "       \n",
        "        train_loss = 0.0\n",
        "        valid_loss = 0.0\n",
        "        \n",
        "        ######################\n",
        "        # training the model #\n",
        "        ######################\n",
        "        model.train()\n",
        "        for batch_idx, (data, target) in enumerate(loaders['train']):\n",
        "            # move to GPU\n",
        "            if use_cuda:\n",
        "                data, target = data.cuda(), target.cuda()\n",
        "            ## find the loss and update the model parameters accordingly\n",
        "            ## record the average training loss, using something like\n",
        "            ## train_loss = train_loss + ((1 / (batch_idx + 1)) * (loss.data - train_loss))\n",
        "\n",
        "            # initialize weights to zero\n",
        "            optimizer.zero_grad()\n",
        "            \n",
        "            output = model(data)\n",
        "            \n",
        "            # calculate loss\n",
        "            loss = criterion(output, target)\n",
        "            \n",
        "            # back prop\n",
        "            loss.backward()\n",
        "            \n",
        "            # grad\n",
        "            optimizer.step()\n",
        "            \n",
        "            train_loss = train_loss + ((1 / (batch_idx + 1)) * (loss.data - train_loss))\n",
        "            \n",
        "            if batch_idx % 100 == 0:\n",
        "                print('Epoch %d, Batch %d loss: %.6f' %\n",
        "                  (epoch, batch_idx + 1, train_loss))\n",
        "            \n",
        "        ######################    \n",
        "        # validate the model #\n",
        "        ######################\n",
        "        model.eval()\n",
        "        for batch_idx, (data, target) in enumerate(loaders['valid']):\n",
        "            # move to GPU\n",
        "            if use_cuda:\n",
        "                data, target = data.cuda(), target.cuda()\n",
        "            ## update the average validation loss\n",
        "            output = model(data)\n",
        "            loss = criterion(output, target)\n",
        "            valid_loss = valid_loss + ((1 / (batch_idx + 1)) * (loss.data - valid_loss))\n",
        "\n",
        "            \n",
        "        # print training/validation statistics \n",
        "        print('Epoch: {} \\tTraining Loss: {:.6f} \\tValidation Loss: {:.6f}'.format(\n",
        "            epoch, \n",
        "            train_loss,\n",
        "            valid_loss\n",
        "            ))\n",
        "        \n",
        "        ## TODO: save the model if validation loss has decreased\n",
        "        if valid_loss < valid_loss_min:\n",
        "            torch.save(model.state_dict(), save_path)\n",
        "            print('Validation loss decreased ({:.6f} --> {:.6f}).  Saving model ...'.format(\n",
        "            valid_loss_min,\n",
        "            valid_loss))\n",
        "            valid_loss_min = valid_loss\n",
        "            \n",
        "    # return trained model\n",
        "    return model"
      ],
      "execution_count": 0,
      "outputs": []
    },
    {
      "cell_type": "code",
      "metadata": {
        "id": "MVOx9ayyczCQ",
        "colab_type": "code",
        "outputId": "2aee7646-4356-4981-d439-fb3941aa7e9d",
        "colab": {
          "base_uri": "https://localhost:8080/",
          "height": 1000
        }
      },
      "source": [
        "model_scratch = train(30, loaders_scratch, model_scratch, optimizer_scratch, \n",
        "                      criterion_scratch, use_cuda, 'model_scratch.pt')"
      ],
      "execution_count": 0,
      "outputs": [
        {
          "output_type": "stream",
          "text": [
            "Epoch 1, Batch 1 loss: 2.480158\n",
            "Epoch 1, Batch 101 loss: 2.422252\n",
            "Epoch 1, Batch 201 loss: 2.413013\n",
            "Epoch: 1 \tTraining Loss: 2.405285 \tValidation Loss: 2.455973\n",
            "Validation loss decreased (inf --> 2.455973).  Saving model ...\n",
            "Epoch 2, Batch 1 loss: 2.744490\n",
            "Epoch 2, Batch 101 loss: 2.312094\n",
            "Epoch 2, Batch 201 loss: 2.301821\n",
            "Epoch: 2 \tTraining Loss: 2.289547 \tValidation Loss: 2.453295\n",
            "Validation loss decreased (2.455973 --> 2.453295).  Saving model ...\n",
            "Epoch 3, Batch 1 loss: 2.729218\n",
            "Epoch 3, Batch 101 loss: 2.077353\n",
            "Epoch 3, Batch 201 loss: 2.035621\n",
            "Epoch: 3 \tTraining Loss: 2.038353 \tValidation Loss: 2.211628\n",
            "Validation loss decreased (2.453295 --> 2.211628).  Saving model ...\n",
            "Epoch 4, Batch 1 loss: 2.470361\n",
            "Epoch 4, Batch 101 loss: 1.925508\n",
            "Epoch 4, Batch 201 loss: 1.935743\n",
            "Epoch: 4 \tTraining Loss: 1.932246 \tValidation Loss: 1.814834\n",
            "Validation loss decreased (2.211628 --> 1.814834).  Saving model ...\n",
            "Epoch 5, Batch 1 loss: 2.307956\n",
            "Epoch 5, Batch 101 loss: 1.938381\n",
            "Epoch 5, Batch 201 loss: 1.903510\n",
            "Epoch: 5 \tTraining Loss: 1.891950 \tValidation Loss: 2.714390\n",
            "Epoch 6, Batch 1 loss: 2.734364\n",
            "Epoch 6, Batch 101 loss: 1.775547\n",
            "Epoch 6, Batch 201 loss: 1.742224\n",
            "Epoch: 6 \tTraining Loss: 1.735244 \tValidation Loss: 1.841831\n",
            "Epoch 7, Batch 1 loss: 1.980614\n",
            "Epoch 7, Batch 101 loss: 1.721321\n",
            "Epoch 7, Batch 201 loss: 1.660155\n",
            "Epoch: 7 \tTraining Loss: 1.658986 \tValidation Loss: 1.332295\n",
            "Validation loss decreased (1.814834 --> 1.332295).  Saving model ...\n",
            "Epoch 8, Batch 1 loss: 1.528584\n",
            "Epoch 8, Batch 101 loss: 1.659300\n",
            "Epoch 8, Batch 201 loss: 1.624007\n",
            "Epoch: 8 \tTraining Loss: 1.627136 \tValidation Loss: 1.695668\n",
            "Epoch 9, Batch 1 loss: 1.619863\n",
            "Epoch 9, Batch 101 loss: 1.552902\n",
            "Epoch 9, Batch 201 loss: 1.534989\n",
            "Epoch: 9 \tTraining Loss: 1.540029 \tValidation Loss: 1.203291\n",
            "Validation loss decreased (1.332295 --> 1.203291).  Saving model ...\n",
            "Epoch 10, Batch 1 loss: 1.703694\n",
            "Epoch 10, Batch 101 loss: 1.523463\n",
            "Epoch 10, Batch 201 loss: 1.472641\n",
            "Epoch: 10 \tTraining Loss: 1.473865 \tValidation Loss: 1.350395\n",
            "Epoch 11, Batch 1 loss: 1.647237\n",
            "Epoch 11, Batch 101 loss: 1.420772\n",
            "Epoch 11, Batch 201 loss: 1.428604\n",
            "Epoch: 11 \tTraining Loss: 1.428646 \tValidation Loss: 1.227483\n",
            "Epoch 12, Batch 1 loss: 1.128634\n",
            "Epoch 12, Batch 101 loss: 1.473860\n",
            "Epoch 12, Batch 201 loss: 1.448863\n",
            "Epoch: 12 \tTraining Loss: 1.446228 \tValidation Loss: 1.411919\n",
            "Epoch 13, Batch 1 loss: 1.758677\n",
            "Epoch 13, Batch 101 loss: 1.393916\n",
            "Epoch 13, Batch 201 loss: 1.394518\n",
            "Epoch: 13 \tTraining Loss: 1.393049 \tValidation Loss: 1.168800\n",
            "Validation loss decreased (1.203291 --> 1.168800).  Saving model ...\n",
            "Epoch 14, Batch 1 loss: 1.709391\n",
            "Epoch 14, Batch 101 loss: 1.366505\n",
            "Epoch 14, Batch 201 loss: 1.371763\n",
            "Epoch: 14 \tTraining Loss: 1.363096 \tValidation Loss: 1.338053\n",
            "Epoch 15, Batch 1 loss: 1.527977\n",
            "Epoch 15, Batch 101 loss: 1.367171\n",
            "Epoch 15, Batch 201 loss: 1.318308\n",
            "Epoch: 15 \tTraining Loss: 1.325379 \tValidation Loss: 1.116766\n",
            "Validation loss decreased (1.168800 --> 1.116766).  Saving model ...\n",
            "Epoch 16, Batch 1 loss: 1.089462\n",
            "Epoch 16, Batch 101 loss: 1.256555\n",
            "Epoch 16, Batch 201 loss: 1.256696\n",
            "Epoch: 16 \tTraining Loss: 1.264060 \tValidation Loss: 0.988983\n",
            "Validation loss decreased (1.116766 --> 0.988983).  Saving model ...\n",
            "Epoch 17, Batch 1 loss: 1.608627\n",
            "Epoch 17, Batch 101 loss: 1.250267\n",
            "Epoch 17, Batch 201 loss: 1.263184\n",
            "Epoch: 17 \tTraining Loss: 1.262624 \tValidation Loss: 0.921062\n",
            "Validation loss decreased (0.988983 --> 0.921062).  Saving model ...\n",
            "Epoch 18, Batch 1 loss: 0.766996\n",
            "Epoch 18, Batch 101 loss: 1.197104\n",
            "Epoch 18, Batch 201 loss: 1.217420\n",
            "Epoch: 18 \tTraining Loss: 1.213191 \tValidation Loss: 1.123470\n",
            "Epoch 19, Batch 1 loss: 1.401948\n",
            "Epoch 19, Batch 101 loss: 1.239479\n",
            "Epoch 19, Batch 201 loss: 1.212084\n",
            "Epoch: 19 \tTraining Loss: 1.202140 \tValidation Loss: 0.883601\n",
            "Validation loss decreased (0.921062 --> 0.883601).  Saving model ...\n",
            "Epoch 20, Batch 1 loss: 1.793141\n",
            "Epoch 20, Batch 101 loss: 1.133975\n",
            "Epoch 20, Batch 201 loss: 1.117893\n",
            "Epoch: 20 \tTraining Loss: 1.133383 \tValidation Loss: 0.922595\n",
            "Epoch 21, Batch 1 loss: 1.060209\n",
            "Epoch 21, Batch 101 loss: 1.126773\n",
            "Epoch 21, Batch 201 loss: 1.162640\n",
            "Epoch: 21 \tTraining Loss: 1.160233 \tValidation Loss: 0.819546\n",
            "Validation loss decreased (0.883601 --> 0.819546).  Saving model ...\n",
            "Epoch 22, Batch 1 loss: 1.497240\n",
            "Epoch 22, Batch 101 loss: 1.084847\n",
            "Epoch 22, Batch 201 loss: 1.116025\n",
            "Epoch: 22 \tTraining Loss: 1.109401 \tValidation Loss: 1.039788\n",
            "Epoch 23, Batch 1 loss: 1.274760\n",
            "Epoch 23, Batch 101 loss: 1.143650\n",
            "Epoch 23, Batch 201 loss: 1.101986\n",
            "Epoch: 23 \tTraining Loss: 1.092968 \tValidation Loss: 0.891171\n",
            "Epoch 24, Batch 1 loss: 0.799603\n",
            "Epoch 24, Batch 101 loss: 1.058558\n",
            "Epoch 24, Batch 201 loss: 1.043512\n",
            "Epoch: 24 \tTraining Loss: 1.045790 \tValidation Loss: 0.786438\n",
            "Validation loss decreased (0.819546 --> 0.786438).  Saving model ...\n",
            "Epoch 25, Batch 1 loss: 1.403994\n",
            "Epoch 25, Batch 101 loss: 1.053906\n",
            "Epoch 25, Batch 201 loss: 1.041639\n",
            "Epoch: 25 \tTraining Loss: 1.041863 \tValidation Loss: 0.756058\n",
            "Validation loss decreased (0.786438 --> 0.756058).  Saving model ...\n",
            "Epoch 26, Batch 1 loss: 1.073226\n",
            "Epoch 26, Batch 101 loss: 1.048530\n",
            "Epoch 26, Batch 201 loss: 1.037115\n",
            "Epoch: 26 \tTraining Loss: 1.037805 \tValidation Loss: 0.587618\n",
            "Validation loss decreased (0.756058 --> 0.587618).  Saving model ...\n",
            "Epoch 27, Batch 1 loss: 1.171250\n",
            "Epoch 27, Batch 101 loss: 1.043976\n",
            "Epoch 27, Batch 201 loss: 1.037139\n",
            "Epoch: 27 \tTraining Loss: 1.039165 \tValidation Loss: 0.924311\n",
            "Epoch 28, Batch 1 loss: 1.130567\n",
            "Epoch 28, Batch 101 loss: 0.981652\n",
            "Epoch 28, Batch 201 loss: 1.005218\n",
            "Epoch: 28 \tTraining Loss: 1.013765 \tValidation Loss: 0.631897\n",
            "Epoch 29, Batch 1 loss: 1.081109\n",
            "Epoch 29, Batch 101 loss: 0.983141\n",
            "Epoch 29, Batch 201 loss: 0.984387\n",
            "Epoch: 29 \tTraining Loss: 0.985839 \tValidation Loss: 0.887552\n",
            "Epoch 30, Batch 1 loss: 1.557414\n",
            "Epoch 30, Batch 101 loss: 1.022277\n",
            "Epoch 30, Batch 201 loss: 1.010923\n",
            "Epoch: 30 \tTraining Loss: 1.005199 \tValidation Loss: 0.657279\n"
          ],
          "name": "stdout"
        }
      ]
    },
    {
      "cell_type": "code",
      "metadata": {
        "id": "hjs2vqgHhNZS",
        "colab_type": "code",
        "outputId": "a0436c75-13d8-4ed6-b343-2a54531f1107",
        "colab": {
          "base_uri": "https://localhost:8080/",
          "height": 85
        }
      },
      "source": [
        "def test(loaders, model, criterion, use_cuda):\n",
        "\n",
        "    # monitor test loss and accuracy\n",
        "    test_loss = 0.\n",
        "    correct = 0.\n",
        "    total = 0.\n",
        "\n",
        "    model.eval()\n",
        "    for batch_idx, (data, target) in enumerate(loaders['test']):\n",
        "        # move to GPU\n",
        "        if use_cuda:\n",
        "            data, target = data.cuda(), target.cuda()\n",
        "        # forward pass: compute predicted outputs by passing inputs to the model\n",
        "        output = model(data)\n",
        "        # calculate the loss\n",
        "        loss = criterion(output, target)\n",
        "        # update average test loss \n",
        "        test_loss = test_loss + ((1 / (batch_idx + 1)) * (loss.data - test_loss))\n",
        "        # convert output probabilities to predicted class\n",
        "        pred = output.data.max(1, keepdim=True)[1]\n",
        "        # compare predictions to true label\n",
        "        correct += np.sum(np.squeeze(pred.eq(target.data.view_as(pred))).cpu().numpy())\n",
        "        total += data.size(0)\n",
        "            \n",
        "    print('Test Loss: {:.6f}\\n'.format(test_loss))\n",
        "\n",
        "    print('\\nTest Accuracy: %2d%% (%2d/%2d)' % (\n",
        "        100. * correct / total, correct, total))\n",
        "\n",
        "# call test function    \n",
        "test(loaders_scratch, model_scratch, criterion_scratch, use_cuda)"
      ],
      "execution_count": 0,
      "outputs": [
        {
          "output_type": "stream",
          "text": [
            "Test Loss: 0.689043\n",
            "\n",
            "\n",
            "Test Accuracy: 76% (430/565)\n"
          ],
          "name": "stdout"
        }
      ]
    },
    {
      "cell_type": "code",
      "metadata": {
        "id": "y5IgL-rmVpLw",
        "colab_type": "code",
        "colab": {}
      },
      "source": [
        "class_names = [names for names in loaders_scratch['train'].dataset.classes]"
      ],
      "execution_count": 0,
      "outputs": []
    },
    {
      "cell_type": "code",
      "metadata": {
        "id": "JFpBDuu2ZnJp",
        "colab_type": "code",
        "outputId": "8fa06e1b-3b9f-4833-aafe-a7ae8c90afdf",
        "colab": {
          "base_uri": "https://localhost:8080/",
          "height": 238
        }
      },
      "source": [
        "class_names"
      ],
      "execution_count": 0,
      "outputs": [
        {
          "output_type": "execute_result",
          "data": {
            "text/plain": [
              "['.ipynb_checkpoints',\n",
              " 'Black-grass',\n",
              " 'Charlock',\n",
              " 'Cleavers',\n",
              " 'Common Chickweed',\n",
              " 'Common wheat',\n",
              " 'Fat Hen',\n",
              " 'Loose Silky-bent',\n",
              " 'Maize',\n",
              " 'Scentless Mayweed',\n",
              " 'ShepherdтАЩs Purse',\n",
              " 'Small-flowered Cranesbill',\n",
              " 'Sugar beet']"
            ]
          },
          "metadata": {
            "tags": []
          },
          "execution_count": 40
        }
      ]
    },
    {
      "cell_type": "code",
      "metadata": {
        "id": "be10e-QZaAZN",
        "colab_type": "code",
        "colab": {}
      },
      "source": [
        "from PIL import Image\n",
        "import torchvision.transforms as transforms\n",
        "%matplotlib inline\n",
        "from matplotlib import pyplot as plt\n",
        "\n",
        "def load_input_image(img_path):    \n",
        "    image = Image.open(img_path).convert('RGB')\n",
        "    prediction_transform = transforms.Compose([transforms.Resize(size=(224, 224)),\n",
        "                                     transforms.ToTensor(), \n",
        "                                     standard_normalization])\n",
        "\n",
        "    # discard the transparent, alpha channel (that's the :3) and add the batch dimension\n",
        "    image = prediction_transform(image)[:3,:,:].unsqueeze(0)\n",
        "    return image"
      ],
      "execution_count": 0,
      "outputs": []
    },
    {
      "cell_type": "code",
      "metadata": {
        "id": "Sgi6SsVkaRop",
        "colab_type": "code",
        "colab": {}
      },
      "source": [
        "def predict_plant(model, class_names, img_path):\n",
        "    # load the image and return the predicted breed\n",
        "    img = load_input_image(img_path)\n",
        "    model = model.cpu()\n",
        "    model.eval()\n",
        "    idx = torch.argmax(model(img))\n",
        "    return class_names[idx]"
      ],
      "execution_count": 0,
      "outputs": []
    },
    {
      "cell_type": "code",
      "metadata": {
        "id": "zc5HRMWjawuY",
        "colab_type": "code",
        "colab": {}
      },
      "source": [
        "def run_app(img_path):\n",
        "    ## handle cases for a human face, dog, and neither\n",
        "    img = Image.open(img_path)\n",
        "    plt.imshow(img)\n",
        "    plt.show()\n",
        "\n",
        "    print(\"Detected plant is : {}\".format(predict_plant(model_scratch,class_names,img_path)))\n",
        "    \n",
        "    "
      ],
      "execution_count": 0,
      "outputs": []
    },
    {
      "cell_type": "code",
      "metadata": {
        "id": "XJXXFqiWbjmg",
        "colab_type": "code",
        "outputId": "4e850739-7b29-4434-f159-b166f32fb109",
        "colab": {
          "base_uri": "https://localhost:8080/",
          "height": 286
        }
      },
      "source": [
        "run_app(\"/content/gdrive/My Drive/Kaggle/output/test/Cleavers/132.png\")"
      ],
      "execution_count": 0,
      "outputs": [
        {
          "output_type": "display_data",
          "data": {
            "image/png": "[encoded data removed]",
            "text/plain": [
              "<Figure size 432x288 with 1 Axes>"
            ]
          },
          "metadata": {
            "tags": [],
            "needs_background": "light"
          }
        },
        {
          "output_type": "stream",
          "text": [
            "Detected plant is : Cleavers\n"
          ],
          "name": "stdout"
        }
      ]
    },
    {
      "cell_type": "code",
      "metadata": {
        "id": "nchiyOLJbtxq",
        "colab_type": "code",
        "colab": {}
      },
      "source": [
        ""
      ],
      "execution_count": 0,
      "outputs": []
    }
  ]
}